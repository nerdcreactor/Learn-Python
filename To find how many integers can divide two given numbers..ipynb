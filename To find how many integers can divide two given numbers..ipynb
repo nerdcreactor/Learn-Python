{
 "cells": [
  {
   "cell_type": "code",
   "execution_count": 6,
   "id": "911825dd",
   "metadata": {},
   "outputs": [
    {
     "name": "stdout",
     "output_type": "stream",
     "text": [
      "10 15\n",
      "2\n"
     ]
    }
   ],
   "source": [
    "data = input()\n",
    "num = data.split()\n",
    "a = int(num[0])\n",
    "b = int(num[1])\n",
    "\n",
    "\n",
    "def gcd(a, b):\n",
    "    if a==0:\n",
    "        return b;\n",
    "    return gcd(a%b, a);\n",
    "\n",
    "\n",
    "if(a>0 and a<10*12+1 and b>=1 and b<10*12+1):\n",
    "    count = 1\n",
    "    for i in range(2, gcd(a, b)+1):\n",
    "        if(a%i==0 and b%i==0):\n",
    "            count=count+1\n",
    "    print(count)"
   ]
  },
  {
   "cell_type": "code",
   "execution_count": null,
   "id": "55ee8a9b",
   "metadata": {},
   "outputs": [],
   "source": []
  }
 ],
 "metadata": {
  "kernelspec": {
   "display_name": "Python 3",
   "language": "python",
   "name": "python3"
  },
  "language_info": {
   "codemirror_mode": {
    "name": "ipython",
    "version": 3
   },
   "file_extension": ".py",
   "mimetype": "text/x-python",
   "name": "python",
   "nbconvert_exporter": "python",
   "pygments_lexer": "ipython3",
   "version": "3.8.8"
  }
 },
 "nbformat": 4,
 "nbformat_minor": 5
}
